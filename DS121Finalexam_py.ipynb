{
  "nbformat": 4,
  "nbformat_minor": 0,
  "metadata": {
    "colab": {
      "provenance": [],
      "authorship_tag": "ABX9TyOJ1bHl6BGecKJU+tq2yepa",
      "include_colab_link": true
    },
    "kernelspec": {
      "name": "python3",
      "display_name": "Python 3"
    },
    "language_info": {
      "name": "python"
    }
  },
  "cells": [
    {
      "cell_type": "markdown",
      "metadata": {
        "id": "view-in-github",
        "colab_type": "text"
      },
      "source": [
        "<a href=\"https://colab.research.google.com/github/Neeraj577/Machine_learning/blob/main/DS121Finalexam_py.ipynb\" target=\"_parent\"><img src=\"https://colab.research.google.com/assets/colab-badge.svg\" alt=\"Open In Colab\"/></a>"
      ]
    },
    {
      "cell_type": "code",
      "execution_count": 27,
      "metadata": {
        "colab": {
          "base_uri": "https://localhost:8080/"
        },
        "id": "9dWCjCU444o3",
        "outputId": "8be2270e-19d3-4e0a-e7c0-a123246ad124"
      },
      "outputs": [
        {
          "output_type": "stream",
          "name": "stdout",
          "text": [
            "Requirement already satisfied: stemgraphic in /usr/local/lib/python3.10/dist-packages (0.9.1)\n",
            "Requirement already satisfied: docopt in /usr/local/lib/python3.10/dist-packages (from stemgraphic) (0.6.2)\n",
            "Requirement already satisfied: matplotlib in /usr/local/lib/python3.10/dist-packages (from stemgraphic) (3.7.1)\n",
            "Requirement already satisfied: pandas in /usr/local/lib/python3.10/dist-packages (from stemgraphic) (2.0.3)\n",
            "Requirement already satisfied: seaborn in /usr/local/lib/python3.10/dist-packages (from stemgraphic) (0.13.1)\n",
            "Requirement already satisfied: contourpy>=1.0.1 in /usr/local/lib/python3.10/dist-packages (from matplotlib->stemgraphic) (1.2.1)\n",
            "Requirement already satisfied: cycler>=0.10 in /usr/local/lib/python3.10/dist-packages (from matplotlib->stemgraphic) (0.12.1)\n",
            "Requirement already satisfied: fonttools>=4.22.0 in /usr/local/lib/python3.10/dist-packages (from matplotlib->stemgraphic) (4.53.0)\n",
            "Requirement already satisfied: kiwisolver>=1.0.1 in /usr/local/lib/python3.10/dist-packages (from matplotlib->stemgraphic) (1.4.5)\n",
            "Requirement already satisfied: numpy>=1.20 in /usr/local/lib/python3.10/dist-packages (from matplotlib->stemgraphic) (1.25.2)\n",
            "Requirement already satisfied: packaging>=20.0 in /usr/local/lib/python3.10/dist-packages (from matplotlib->stemgraphic) (24.1)\n",
            "Requirement already satisfied: pillow>=6.2.0 in /usr/local/lib/python3.10/dist-packages (from matplotlib->stemgraphic) (9.4.0)\n",
            "Requirement already satisfied: pyparsing>=2.3.1 in /usr/local/lib/python3.10/dist-packages (from matplotlib->stemgraphic) (3.1.2)\n",
            "Requirement already satisfied: python-dateutil>=2.7 in /usr/local/lib/python3.10/dist-packages (from matplotlib->stemgraphic) (2.8.2)\n",
            "Requirement already satisfied: pytz>=2020.1 in /usr/local/lib/python3.10/dist-packages (from pandas->stemgraphic) (2023.4)\n",
            "Requirement already satisfied: tzdata>=2022.1 in /usr/local/lib/python3.10/dist-packages (from pandas->stemgraphic) (2024.1)\n",
            "Requirement already satisfied: six>=1.5 in /usr/local/lib/python3.10/dist-packages (from python-dateutil>=2.7->matplotlib->stemgraphic) (1.16.0)\n"
          ]
        }
      ],
      "source": [
        "!pip install stemgraphic"
      ]
    },
    {
      "cell_type": "markdown",
      "source": [
        "\n",
        "1.Construct a stretched stem-and-leaf display. (Enter numbers from smallest to largest separated by spaces. Enter NONE for stems with no values.)"
      ],
      "metadata": {
        "id": "xZqW1Y9g5Jas"
      }
    },
    {
      "cell_type": "code",
      "source": [
        "import pandas as pd\n",
        "import numpy as np\n",
        "\n",
        "# Read data from Excel file (assuming file named 'data.xlsx' and sheet named 'Sheet1')\n",
        "data = pd.read_excel('/content/Marathon (1).xlsx')"
      ],
      "metadata": {
        "id": "lKOh3q4V4-8M"
      },
      "execution_count": 28,
      "outputs": []
    },
    {
      "cell_type": "code",
      "source": [
        "import stemgraphic\n",
        "\n",
        "stemgraphic.stem_graphic(data['Age'], scale=10)"
      ],
      "metadata": {
        "colab": {
          "base_uri": "https://localhost:8080/",
          "height": 250
        },
        "id": "Qhlm5ilP4_J_",
        "outputId": "0113f5d5-300b-4738-e7e6-bb80c616723b"
      },
      "execution_count": 29,
      "outputs": [
        {
          "output_type": "execute_result",
          "data": {
            "text/plain": [
              "(<Figure size 750x225 with 1 Axes>, <Axes: >)"
            ]
          },
          "metadata": {},
          "execution_count": 29
        },
        {
          "output_type": "display_data",
          "data": {
            "text/plain": [
              "<Figure size 750x225 with 1 Axes>"
            ],
            "image/png": "[encoded data removed]"
          },
          "metadata": {}
        }
      ]
    },
    {
      "cell_type": "markdown",
      "source": [
        "2. Construct a histogram [Easy]\n"
      ],
      "metadata": {
        "id": "obuiGIGq5hd9"
      }
    },
    {
      "cell_type": "code",
      "source": [
        "# Class\tFrequency\n",
        "# 10–19\t10\n",
        "# 20–29\t15\n",
        "# 30–39\t17\n",
        "# 40–49\t5\n",
        "# 50–59\t3\n",
        "# Construct a histogrAM WITH BLUE color\n",
        "\n",
        "import pandas as pd\n",
        "import matplotlib.pyplot as plt\n",
        "\n",
        "# Create the data\n",
        "df = pd.DataFrame({'Class': ['10-19', '20-29', '30-39', '40-49', '50-59'],\n",
        "                   'Frequency': [10, 15, 17, 5, 3]})\n",
        "\n",
        "# Create the histogram\n",
        "plt.bar(df['Class'], df['Frequency'], color='blue')\n",
        "\n",
        "# Add labels and title\n",
        "plt.xlabel('Class')\n",
        "plt.ylabel('Frequency')\n",
        "plt.title('Histogram of Class Frequencies')\n",
        "\n",
        "# Show the plot\n",
        "plt.show()"
      ],
      "metadata": {
        "colab": {
          "base_uri": "https://localhost:8080/",
          "height": 472
        },
        "id": "F95HWyJl6ei7",
        "outputId": "7d2a8f24-b412-43c6-94a3-053270c2a41a"
      },
      "execution_count": 4,
      "outputs": [
        {
          "output_type": "display_data",
          "data": {
            "text/plain": [
              "<Figure size 640x480 with 1 Axes>"
            ],
            "image/png": "[encoded data removed]"
          },
          "metadata": {}
        }
      ]
    },
    {
      "cell_type": "markdown",
      "source": [
        "3. Consider a sample with data values of 24, 26, 25, 15, 30, 34, 27, and 26.\n",
        "Compute the range.\n",
        "Compute the interquartile range.\n",
        "\n",
        "Compute the sample variance. (Round your answer to two decimal places.)\n",
        "\n",
        "Compute the sample standard deviation"
      ],
      "metadata": {
        "id": "Z9vqSMI86hFN"
      }
    },
    {
      "cell_type": "code",
      "source": [
        "import math\n",
        "import statistics\n",
        "\n",
        "# Sample data\n",
        "raw_data = [28, 24, 27, 15, 30, 34, 20, 24]\n",
        "data = sorted(raw_data)\n",
        "print(\"Data:\", data)\n",
        "\n",
        "# Range\n",
        "range_value = max(data) - min(data)\n",
        "print(\"Range:\", range_value)\n",
        "\n",
        "# Interquartile range\n",
        "Q1 = data[1]+0.25*(data[2]- data[1])\n",
        "Q3 = data[5]+0.75*(data[6]- data[5])\n",
        "IQR = Q3 - Q1\n",
        "print(\"Taken datas: \", \"Data-1 = \", data[1], data[2], data[6], data[5])\n",
        "print(\"Interquartile range:\", IQR)\n",
        "\n",
        "# Sample variance\n",
        "sample_variance = statistics.variance(data)\n",
        "print(\"Sample variance:\", round(sample_variance, 2))\n",
        "\n",
        "# Sample standard deviation\n",
        "sample_stddev = math.sqrt(sample_variance)\n",
        "print(\"Sample standard deviation:\", round(sample_stddev, 2))"
      ],
      "metadata": {
        "colab": {
          "base_uri": "https://localhost:8080/"
        },
        "id": "ffNwXaJY7Fgk",
        "outputId": "2b62245c-700d-4226-8850-4481005ebc4a"
      },
      "execution_count": 38,
      "outputs": [
        {
          "output_type": "stream",
          "name": "stdout",
          "text": [
            "Data: [15, 20, 24, 24, 27, 28, 30, 34]\n",
            "Range: 19\n",
            "Taken datas:  Data-1 =  20 24 30 28\n",
            "Interquartile range: 8.5\n",
            "Sample variance: 35.07\n",
            "Sample standard deviation: 5.92\n"
          ]
        }
      ]
    },
    {
      "cell_type": "markdown",
      "source": [
        "4.The following data were used to construct the histograms of the number of days required to fill orders for Company A, and Company B.\n"
      ],
      "metadata": {
        "id": "rFt8ucQ-A4rG"
      }
    },
    {
      "cell_type": "code",
      "source": [
        "Comp1 = [9,\t10,\t9,\t8,\t9,\t11,\t8,\t9,\t10,\t10]\n",
        "Comp2 = [8,\t8,\t13,\t7,\t10,\t9,\t10,\t5,13,\t10]\n",
        "\n",
        "range_value_1 = max(Comp1) - min(Comp1)\n",
        "print(\"Range:Company-1\", range_value_1)\n",
        "sample_variance = statistics.variance(Comp1)\n",
        "sample_stddev = math.sqrt(sample_variance)\n",
        "print(\"Sample standard deviation:\", round(sample_stddev, 2))\n",
        "\n",
        "range_value_2 = max(Comp2) - min(Comp2)\n",
        "print(\"Range:Company-2\", range_value_2)\n",
        "sample_variance = statistics.variance(Comp2)\n",
        "sample_stddev = math.sqrt(sample_variance)\n",
        "print(\"Sample standard deviation:\", round(sample_stddev, 2))\n"
      ],
      "metadata": {
        "colab": {
          "base_uri": "https://localhost:8080/"
        },
        "id": "DIRjcsH7A634",
        "outputId": "0b8ecf2e-7418-4b24-a245-36b3d284c5ba"
      },
      "execution_count": 15,
      "outputs": [
        {
          "output_type": "stream",
          "name": "stdout",
          "text": [
            "Range:Company-1 3\n",
            "Sample standard deviation: 0.95\n",
            "Range:Company-2 8\n",
            "Sample standard deviation: 2.5\n"
          ]
        }
      ]
    },
    {
      "cell_type": "markdown",
      "source": [
        "5. The following table provides a probability distribution for the random variable y.\n",
        "y\n",
        "f(y)\n",
        "2\t0.20\n",
        "4\t0.40\n",
        "7\t0.10\n",
        "8\t0.30\n",
        "(a)\n",
        "Compute\n",
        "E(y).\n",
        "(b)\n",
        "Compute\n",
        "Var(y)\n",
        " and 𝜎. (Round your answer for 𝜎 to two decimal places.)"
      ],
      "metadata": {
        "id": "NmGHbf85CTe0"
      }
    },
    {
      "cell_type": "code",
      "source": [
        "import numpy as np\n",
        "\n",
        "# Given data\n",
        "y = np.array([2, 4, 7, 8])\n",
        "f_y = np.array([0.30, 0.20, 0.10, 0.40])\n",
        "\n",
        "# (a) Compute E(y)\n",
        "E_y = round(np.sum(y * f_y),2)\n",
        "print(\"E_y = \", E_y)\n",
        "# (b) Compute Var(y) and σ\n",
        "E_y_squared = np.sum((y**2) * f_y)\n",
        "Var_y = round(E_y_squared - (E_y**2),2)\n",
        "σ_y = round(np.sqrt(Var_y),2)\n",
        "print(\"Var_y = \", Var_y)\n",
        "print(\"sd_y = \", σ_y)\n",
        "\n",
        "E_y, Var_y, σ_y\n"
      ],
      "metadata": {
        "colab": {
          "base_uri": "https://localhost:8080/"
        },
        "id": "DUWvQ0I0CSMi",
        "outputId": "3ba5bd33-2f15-409f-921d-9a3831e21a7d"
      },
      "execution_count": 16,
      "outputs": [
        {
          "output_type": "stream",
          "name": "stdout",
          "text": [
            "E_y =  5.3\n",
            "Var_y =  6.81\n",
            "sd_y =  2.61\n"
          ]
        },
        {
          "output_type": "execute_result",
          "data": {
            "text/plain": [
              "(5.3, 6.81, 2.61)"
            ]
          },
          "metadata": {},
          "execution_count": 16
        }
      ]
    },
    {
      "cell_type": "markdown",
      "source": [
        "You may need to use the appropriate appendix table to answer this question.\n",
        "Automobile repair costs continue to rise with the average cost now at $367 per repair.† Assume that the cost for an automobile repair is normally distributed with a standard deviation of $88. Answer the following questions about the cost of automobile repairs.\n"
      ],
      "metadata": {
        "id": "9Fhsnk5lG0fn"
      }
    },
    {
      "cell_type": "code",
      "source": [],
      "metadata": {
        "id": "-_Q96j0GG9iE"
      },
      "execution_count": null,
      "outputs": []
    },
    {
      "cell_type": "code",
      "source": [
        "from scipy.stats import norm\n",
        "\n",
        "# Define average cost and standard deviation\n",
        "average_cost = 367\n",
        "std_dev = 88\n",
        "\n",
        "# (a) Probability of cost exceeding $440\n",
        "cost_threshold_a = 430\n",
        "probability_a = 1 - norm.cdf(cost_threshold_a, average_cost, std_dev)\n",
        "probability_a = round(probability_a, 4)\n",
        "\n",
        "# (b) Probability of cost being less than $220\n",
        "cost_threshold_b = 250\n",
        "probability_b = norm.cdf(cost_threshold_b, average_cost, std_dev)\n",
        "probability_b = round(probability_b, 4)\n",
        "\n",
        "# (c) Probability of cost between $220 and $440\n",
        "probability_c = 1-probability_a -probability_b\n",
        "probability_c = round(probability_c, 4)\n",
        "\n",
        "# (d) Cost for lower 5%\n",
        "lower_5_percentile = norm.ppf(0.05, average_cost, std_dev)\n",
        "lower_5_percentile = round(lower_5_percentile, 2)  # Round to nearest cent\n",
        "\n",
        "# Print results\n",
        "print(\"Answer (a): Probability of cost exceeding $440:\", probability_a)\n",
        "print(\"Answer (b): Probability of cost being less than $220:\", probability_b)\n",
        "print(\"Answer (c): Probability of cost between $220 and $440:\", probability_c)\n",
        "print(\"Answer (d): Maximum cost for lower 5% (rounded to nearest cent):\", lower_5_percentile)\n",
        "\n"
      ],
      "metadata": {
        "colab": {
          "base_uri": "https://localhost:8080/"
        },
        "id": "hxWupjbOIj3t",
        "outputId": "06a68145-af01-47bd-d938-b5d5e071db81"
      },
      "execution_count": 31,
      "outputs": [
        {
          "output_type": "stream",
          "name": "stdout",
          "text": [
            "Answer (a): Probability of cost exceeding $440: 0.237\n",
            "Answer (b): Probability of cost being less than $220: 0.0918\n",
            "Answer (c): Probability of cost between $220 and $440: 0.6712\n",
            "Answer (d): Maximum cost for lower 5% (rounded to nearest cent): 222.25\n"
          ]
        }
      ]
    },
    {
      "cell_type": "markdown",
      "source": [
        "Suppose that the mean daily viewing time of television is 8.35 hours. Use a normal probability distribution with a standard deviation of 2.5 hours to answer the following questions about daily television viewing per household"
      ],
      "metadata": {
        "id": "1H3cAbqdKcPc"
      }
    },
    {
      "cell_type": "code",
      "source": [
        "#Suppose that the mean daily viewing time of television is 8.35\n",
        "#hours. Use a normal probability distribution with a standard\n",
        "#deviation of 2.5 hours to answer the following questions about\n",
        "#daily television viewing per household.zip"
      ],
      "metadata": {
        "id": "_SiTP-FsKc44"
      },
      "execution_count": null,
      "outputs": []
    },
    {
      "cell_type": "code",
      "source": [
        "from scipy.stats import norm\n",
        "\n",
        "# Define average viewing time and standard deviation\n",
        "average_viewing_time = 8.35\n",
        "std_dev = 2.5\n",
        "\n",
        "# (a) Probability between 3 and 12 hours\n",
        "lower_threshold = 5\n",
        "upper_threshold = 12\n",
        "probability_a = norm.cdf(upper_threshold, average_viewing_time, std_dev) - norm.cdf(lower_threshold, average_viewing_time, std_dev)\n",
        "probability_a = round(probability_a, 4)\n",
        "\n",
        "# (b) Top 2% viewing time\n",
        "upper_percentile = 100 - 2  # Convert to percentile value (100 - desired %)\n",
        "top_2_percent_time = norm.ppf(upper_percentile / 100, average_viewing_time, std_dev)\n",
        "top_2_percent_time = round(top_2_percent_time, 2)\n",
        "\n",
        "# (c) Probability of viewing more than 5 hours\n",
        "threshold_c = 3\n",
        "probability_c = 1 - norm.cdf(threshold_c, average_viewing_time, std_dev)\n",
        "probability_c = round(probability_c, 4)\n",
        "\n",
        "# Print results\n",
        "print(\"Answer (a): Probability between 3 and 12 hours:\", probability_a)\n",
        "print(\"Answer (b): Top 2% viewing time (rounded to two decimals):\", top_2_percent_time, \"hrs\")\n",
        "print(\"Answer (c): Probability of viewing more than 5 hours:\", probability_c)\n"
      ],
      "metadata": {
        "id": "y_onVJqwKU3Q",
        "outputId": "ea915e57-c66d-45e4-9138-03825509abf1",
        "colab": {
          "base_uri": "https://localhost:8080/"
        }
      },
      "execution_count": 18,
      "outputs": [
        {
          "output_type": "stream",
          "name": "stdout",
          "text": [
            "Answer (a): Probability between 3 and 12 hours: 0.8377\n",
            "Answer (b): Top 2% viewing time (rounded to two decimals): 13.48 hrs\n",
            "Answer (c): Probability of viewing more than 5 hours: 0.9838\n"
          ]
        }
      ]
    },
    {
      "cell_type": "markdown",
      "source": [
        "You may need to use the appropriate appendix table or technology to answer this question.\n",
        "A population has a mean of 200 and a standard deviation of 50. Suppose a sample of size 100 is selected and\n",
        "x\n",
        " is used to estimate 𝜇. (Round your answers to four decimal places.)\n",
        "(a)\n",
        "What is the probability that the sample mean will be within ±5 of the population mean?\n",
        "(No Response) seenKey 0.6827\n",
        "(b)\n",
        "What is the probability that the sample mean will be within ±10 of the population mean?\n",
        "(No Response) seenKey 0.9545"
      ],
      "metadata": {
        "id": "ZlnDZAiEK4cg"
      }
    },
    {
      "cell_type": "code",
      "source": [],
      "metadata": {
        "id": "HJ5cdHGSK6WB"
      },
      "execution_count": null,
      "outputs": []
    },
    {
      "cell_type": "code",
      "source": [
        "from scipy.stats import norm\n",
        "\n",
        "# Population parameters\n",
        "population_mean = 800\n",
        "population_std_dev = 200\n",
        "\n",
        "# Sample size\n",
        "sample_size = 400\n",
        "\n",
        "# Standard error of the mean (SEM)\n",
        "sem = population_std_dev / np.sqrt(sample_size)\n",
        "\n",
        "# (a) Probability within ±5 of population mean\n",
        "threshold_a = 5  # Margin of error from the mean\n",
        "\n",
        "# Z-scores for the margins\n",
        "z_a_lower = -(threshold_a / sem)\n",
        "z_a_upper = threshold_a / sem\n",
        "\n",
        "# Calculate probability using the standard normal distribution (assuming large enough sample size)\n",
        "probability_a = norm.cdf(z_a_upper, loc=0, scale=1) - norm.cdf(z_a_lower, loc=0, scale=1)\n",
        "probability_a = round(probability_a, 4)\n",
        "\n",
        "# (b) Probability within ±10 of population mean\n",
        "threshold_b = 10  # Margin of error from the mean\n",
        "\n",
        "# Z-scores for the margins\n",
        "z_b_lower = -(threshold_b / sem)\n",
        "z_b_upper = threshold_b / sem\n",
        "\n",
        "# Calculate probability using the standard normal distribution\n",
        "probability_b = norm.cdf(z_b_upper, loc=0, scale=1) - norm.cdf(z_b_lower, loc=0, scale=1)\n",
        "probability_b = round(probability_b, 4)\n",
        "\n",
        "# Print results\n",
        "print(\"Answer (a): Probability within ±5 of population mean:\", probability_a)\n",
        "print(\"Answer (b): Probability within ±10 of population mean:\", probability_b)\n",
        "\n"
      ],
      "metadata": {
        "colab": {
          "base_uri": "https://localhost:8080/"
        },
        "id": "rG-ZktkeLDBp",
        "outputId": "16cdfc12-dfc8-4854-eade-2f8cd910979d"
      },
      "execution_count": null,
      "outputs": [
        {
          "output_type": "stream",
          "name": "stdout",
          "text": [
            "Answer (a): Probability within ±5 of population mean: 0.3829\n",
            "Answer (b): Probability within ±10 of population mean: 0.6827\n"
          ]
        }
      ]
    },
    {
      "cell_type": "markdown",
      "source": [
        "You may need to use the appropriate appendix table or technology to answer this question.\n",
        "A population has a mean of 60 and a standard deviation of 18. A sample of 81 observations will be taken. Find the probability that the sample mean will be larger than 67(Red)\n",
        "."
      ],
      "metadata": {
        "id": "S_gt-xgELjfM"
      }
    },
    {
      "cell_type": "code",
      "source": [],
      "metadata": {
        "id": "E7T0HQYDLsP7"
      },
      "execution_count": null,
      "outputs": []
    },
    {
      "cell_type": "code",
      "source": [
        "from scipy.stats import norm\n",
        "\n",
        "# Population parameters\n",
        "population_mean = 60\n",
        "population_std_dev = 18\n",
        "\n",
        "# Sample size\n",
        "sample_size = 81\n",
        "\n",
        "# Standard error of the mean (SEM)\n",
        "sem = population_std_dev / np.sqrt(sample_size)\n",
        "\n",
        "# Threshold (value of interest)\n",
        "threshold = 67\n",
        "\n",
        "# Z-score for the threshold\n",
        "z_score = (threshold - population_mean) / sem\n",
        "\n",
        "# Calculate probability using the standard normal distribution (assuming large enough sample size)\n",
        "probability = 1 - norm.cdf(z_score, loc=0, scale=1)  # Probability of exceeding the threshold\n",
        "probability = round(probability, 4)\n",
        "\n",
        "# Print result\n",
        "print(\"Probability of sample mean exceeding\", threshold, \":\", probability)\n",
        "\n"
      ],
      "metadata": {
        "colab": {
          "base_uri": "https://localhost:8080/"
        },
        "id": "mTNLpcHPLx_P",
        "outputId": "fbe6a379-6aa1-4283-9b97-4ca074de78e4"
      },
      "execution_count": 19,
      "outputs": [
        {
          "output_type": "stream",
          "name": "stdout",
          "text": [
            "Probability of sample mean exceeding 67 : 0.0002\n"
          ]
        }
      ]
    },
    {
      "cell_type": "markdown",
      "source": [
        "You may need to use the appropriate appendix table or technology to answer this question.\n",
        "A simple random sample of 80 items resulted in a sample mean of 60. The population standard deviation is\n",
        "𝜎 = 15.\n",
        "(a)\n",
        "Compute the 95% confidence interval for the population mean. (Round your answers to two decimal places.)\n",
        "(No Response) seenKey 56.71 to (No Response) seenKey 63.29\n",
        "(b)\n",
        "Assume that the same sample mean was obtained from a sample of 160 items. Provide a 95% confidence interval for the population mean. (Round your answers to two decimal places.)\n",
        "(No Response) seenKey 57.68 to (No Response) seenKey 62.32\n",
        "(c)\n",
        "What is the effect of a larger sample size on the interval estimate?\n",
        "correct A larger sample size provides a smaller margin of error.\n",
        "A larger sample size does not change the margin of error.    \n",
        "A larger sample size provides a larger margin of error.\n"
      ],
      "metadata": {
        "id": "LxpzZfVUL63y"
      }
    },
    {
      "cell_type": "code",
      "source": [],
      "metadata": {
        "id": "_FbGmG_wL-zx"
      },
      "execution_count": null,
      "outputs": []
    },
    {
      "cell_type": "code",
      "source": [
        "from scipy.stats import norm\n",
        "\n",
        "# Sample statistics\n",
        "sample_mean = 70\n",
        "sample_size_a = 60  # Sample size for part (a)\n",
        "sample_size_b = 120  # Sample size for part (b)\n",
        "population_std_dev = 5\n",
        "\n",
        "# Confidence level (1 - alpha)\n",
        "confidence_level = 0.95\n",
        "\n",
        "# Calculate z-score for confidence interval\n",
        "z_score = norm.ppf((1 + confidence_level) / 2)  # Two-tailed test\n",
        "\n",
        "# Margin of error for each sample size\n",
        "margin_of_error_a = z_score * population_std_dev / np.sqrt(sample_size_a)\n",
        "margin_of_error_b = z_score * population_std_dev / np.sqrt(sample_size_b)\n",
        "\n",
        "# Confidence interval bounds for part (a)\n",
        "lower_bound_a = sample_mean - margin_of_error_a\n",
        "upper_bound_a = sample_mean + margin_of_error_a\n",
        "\n",
        "# Confidence interval bounds for part (b)\n",
        "lower_bound_b = sample_mean - margin_of_error_b\n",
        "upper_bound_b = sample_mean + margin_of_error_b\n",
        "\n",
        "# Print results\n",
        "print(\"Answer (a): 95% Confidence Interval (sample size 80)\")\n",
        "print(f\"  Lower Bound: {lower_bound_a:.2f}\")\n",
        "print(f\"  Upper Bound: {upper_bound_a:.2f}\")\n",
        "\n",
        "print(\"\\nAnswer (b): 95% Confidence Interval (sample size 160)\")\n",
        "print(f\"  Lower Bound: {lower_bound_b:.2f}\")\n",
        "print(f\"  Upper Bound: {upper_bound_b:.2f}\")\n",
        "\n",
        "# Answer (c) - Explain effect of sample size\n",
        "print(\"\\nAnswer (c): Effect of Larger Sample Size\")\n",
        "print(\"A larger sample size provides a smaller margin of error.\")\n",
        "\n"
      ],
      "metadata": {
        "colab": {
          "base_uri": "https://localhost:8080/"
        },
        "id": "ixKkG3UvMCkH",
        "outputId": "f29dd607-dd5f-4437-8ef8-69b1080700fd"
      },
      "execution_count": 20,
      "outputs": [
        {
          "output_type": "stream",
          "name": "stdout",
          "text": [
            "Answer (a): 95% Confidence Interval (sample size 80)\n",
            "  Lower Bound: 68.73\n",
            "  Upper Bound: 71.27\n",
            "\n",
            "Answer (b): 95% Confidence Interval (sample size 160)\n",
            "  Lower Bound: 69.11\n",
            "  Upper Bound: 70.89\n",
            "\n",
            "Answer (c): Effect of Larger Sample Size\n",
            "A larger sample size provides a smaller margin of error.\n"
          ]
        }
      ]
    },
    {
      "cell_type": "markdown",
      "source": [
        "You may need to use the appropriate appendix table or technology to answer this question.\n",
        "The following sample data are from a normal population: 10, 8, 12, 15, 13, 11, 6, 5.\n",
        "(a)\n",
        "What is the point estimate of the population mean?\n",
        "(No Response) seenKey 10\n",
        "(b)\n",
        "What is the point estimate of the population standard deviation? (Round your answer to three decimal places.)\n",
        "(No Response) seenKey 3.464\n",
        "(c)\n",
        "With 95% confidence, what is the margin of error for the estimation of the population mean? (Round your answer to one decimal place.)\n",
        "(No Response) seenKey 2.9\n",
        "(d)\n",
        "What is the 95% confidence interval for the population mean? (Round your answer to one decimal place.)\n",
        "(No Response) seenKey 7.1 to (No Response) seenKey 12.9"
      ],
      "metadata": {
        "id": "xRojSSPOMVsK"
      }
    },
    {
      "cell_type": "code",
      "source": [
        "from scipy import stats\n",
        "\n",
        "# Sample data\n",
        "data = [10, 8, 12, 15, 13, 11, 6, 5]\n",
        "\n",
        "# (a) Point estimate for population mean\n",
        "population_mean_estimate = np.mean(data)\n",
        "\n",
        "# (b) Point estimate for population standard deviation\n",
        "population_std_dev_estimate = np.std(data, ddof=1)  # ddof=1 for unbiased estimate\n",
        "\n",
        "# (c) Margin of error for 95% confidence interval\n",
        "confidence_level = 0.95\n",
        "alpha = 1 - confidence_level  # Level of significance\n",
        "t_score = stats.t.ppf((1 + confidence_level) / 2, len(data) - 1)  # Two-tailed test\n",
        "\n",
        "margin_of_error = t_score * population_std_dev_estimate / np.sqrt(len(data))\n",
        "\n",
        "# (d) Confidence interval for population mean (rounded to one decimal)\n",
        "lower_bound = population_mean_estimate - margin_of_error\n",
        "upper_bound = population_mean_estimate + margin_of_error\n",
        "\n",
        "# Print results\n",
        "print(\"Answer (a): Point estimate of population mean:\", population_mean_estimate)\n",
        "print(\"Answer (b): Point estimate of population standard deviation:\", population_std_dev_estimate.round(3))\n",
        "print(\"Answer (c): Margin of error for 95% confidence interval:\", margin_of_error.round(1))\n",
        "print(\"Answer (d): 95% Confidence Interval for population mean:\", f\"{lower_bound:.1f} to {upper_bound:.1f}\")\n",
        "\n"
      ],
      "metadata": {
        "colab": {
          "base_uri": "https://localhost:8080/"
        },
        "id": "wj8ZULVZNZN8",
        "outputId": "e27df8d9-08cf-4aa1-d882-0fc60eb618b5"
      },
      "execution_count": 33,
      "outputs": [
        {
          "output_type": "stream",
          "name": "stdout",
          "text": [
            "Answer (a): Point estimate of population mean: 10.0\n",
            "Answer (b): Point estimate of population standard deviation: 3.464\n",
            "Answer (c): Margin of error for 95% confidence interval: 2.9\n",
            "Answer (d): 95% Confidence Interval for population mean: 7.1 to 12.9\n"
          ]
        }
      ]
    },
    {
      "cell_type": "markdown",
      "source": [
        "You may need to use the appropriate appendix table or technology to answer this question.\n",
        "A simple random sample of 400 individuals provides 100 Yes responses.\n",
        "(a)\n",
        "What is the point estimate of the proportion of the population that would provide Yes responses?\n",
        "(No Response) seenKey 0.25\n",
        "(b)\n",
        "What is your estimate of the standard error of the proportion,\n",
        "𝜎p?\n",
        " (Round your answer to four decimal places.)\n",
        "(No Response) seenKey 0.0217\n",
        "(c)\n",
        "Compute the 95% confidence interval for the population proportion. (Round your answers to four decimal places.)\n",
        "(No Response) seenKey 0.2076 to (No Response) seenKey 0.2924"
      ],
      "metadata": {
        "id": "8XDp8M50NowC"
      }
    },
    {
      "cell_type": "code",
      "source": [],
      "metadata": {
        "id": "lBH-DQcYNpl5"
      },
      "execution_count": null,
      "outputs": []
    },
    {
      "cell_type": "code",
      "source": [
        "\n",
        "from scipy.stats import norm\n",
        "\n",
        "# Sample data\n",
        "sample_size = 400\n",
        "successes = 128\n",
        "\n",
        "# (a) Point estimate for population proportion\n",
        "population_proportion_estimate = successes / sample_size\n",
        "\n",
        "# (b) Standard error of the proportion\n",
        "standard_error = np.sqrt(population_proportion_estimate * (1 - population_proportion_estimate) / sample_size)\n",
        "\n",
        "# (c) 95% confidence interval for population proportion\n",
        "confidence_level = 0.95\n",
        "z_score = norm.ppf((1 + confidence_level) / 2)  # Two-tailed test\n",
        "\n",
        "margin_of_error = z_score * standard_error\n",
        "\n",
        "lower_bound = population_proportion_estimate - margin_of_error\n",
        "upper_bound = population_proportion_estimate + margin_of_error\n",
        "\n",
        "# Round results to four decimal places\n",
        "standard_error = round(standard_error, 4)\n",
        "lower_bound = round(lower_bound, 4)\n",
        "upper_bound = round(upper_bound, 4)\n",
        "\n",
        "# Print results\n",
        "print(\"Answer (a): Point estimate of population proportion:\", population_proportion_estimate)\n",
        "print(\"Answer (b): Standard error of the proportion:\", standard_error)\n",
        "print(\"Answer (c): 95% Confidence Interval for population proportion:\", f\"{lower_bound} to {upper_bound}\")\n"
      ],
      "metadata": {
        "colab": {
          "base_uri": "https://localhost:8080/"
        },
        "id": "7MzS7WI5NJ4W",
        "outputId": "495e1777-7dcb-43d4-b6f8-5eed07ceb77b"
      },
      "execution_count": 23,
      "outputs": [
        {
          "output_type": "stream",
          "name": "stdout",
          "text": [
            "Answer (a): Point estimate of population proportion: 0.32\n",
            "Answer (b): Standard error of the proportion: 0.0233\n",
            "Answer (c): 95% Confidence Interval for population proportion: 0.2743 to 0.3657\n"
          ]
        }
      ]
    },
    {
      "cell_type": "code",
      "source": [],
      "metadata": {
        "id": "Nw2ki1Wi3ad5"
      },
      "execution_count": null,
      "outputs": []
    },
    {
      "cell_type": "markdown",
      "source": [
        "You may need to use the appropriate appendix table or technology to answer this question.\n",
        "In a study entitled How Undergraduate Students Use Credit Cards, it was reported that undergraduate students have a mean credit card balance of $3,173. This figure was an all-time high and had increased 44% over the previous five years. Assume that a current study is being conducted to determine if it can be concluded that the mean credit card balance for undergraduate students has continued to increase compared to the original report. Based on previous studies, use a population standard deviation\n",
        "𝜎 = $1,000. (a)\n",
        "State the null and alternative hypotheses. What is the test statistic for a sample of 185 undergraduate students with a sample mean credit card balance of $3,385? (Round your answer to two decimal places.)\n",
        "(No Response) seenKey 2.88\n",
        "What is the p-value for a sample of 185 undergraduate students with a sample mean credit card balance of $3,385? (Round your answer to four decimal places.)\n",
        "p-value = (No Response) seenKey 0.0020 Using a 0.05 level of significance, what is your conclusion?\n"
      ],
      "metadata": {
        "id": "sAQDCpap3dDo"
      }
    },
    {
      "cell_type": "code",
      "source": [
        "\n",
        "\n",
        "from scipy.stats import norm\n",
        "import numpy as np\n",
        "\n",
        "# Sample data\n",
        "sample_mean = 3375\n",
        "sample_size = 170\n",
        "population_std_dev = 1000\n",
        "\n",
        "# (a) Null and Alternative Hypotheses\n",
        "null_hypothesis = \"mu <= 3173\"  # Population mean is less than or equal to $3,173\n",
        "alternative_hypothesis = \"mu > 3173\"  # Population mean is greater than $3,173\n",
        "\n",
        "# Print hypotheses\n",
        "print(\"Null Hypothesis (H0):\", null_hypothesis)\n",
        "print(\"Alternative Hypothesis (Ha):\", alternative_hypothesis)\n",
        "\n",
        "# (b) Test Statistic and p-value\n",
        "# Calculate z-statistic\n",
        "z_score = (sample_mean - 3173) / (population_std_dev / np.sqrt(sample_size))\n",
        "\n",
        "# Calculate p-value (one-tailed test for upper tail)\n",
        "p_value = 1 - norm.cdf(z_score)\n",
        "\n",
        "# Round results\n",
        "z_score = round(z_score, 2)\n",
        "p_value = round(p_value, 4)\n",
        "\n",
        "# Print results\n",
        "print(\"\\nTest Statistic (z-score):\", z_score)\n",
        "print(\"p-value:\", p_value)\n",
        "\n",
        "# (c) Conclusion\n",
        "significance_level = 0.05\n",
        "\n",
        "# Reject H0 if p-value < alpha\n",
        "if p_value < significance_level:\n",
        "    conclusion = \"Reject H0. There is sufficient evidence to conclude that the current population mean credit card balance for undergraduate students has increased compared to the previous all-time high of $3,173 reported in the original report.\"\n",
        "else:\n",
        "    conclusion = \"Do not reject H0. There is insufficient evidence to conclude that the current population mean credit card balance for undergraduate students has increased compared to the previous all-time high of $3,173 reported in the original report.\"\n",
        "\n",
        "# Print conclusion\n",
        "print(\"\\nConclusion:\", conclusion)\n"
      ],
      "metadata": {
        "colab": {
          "base_uri": "https://localhost:8080/"
        },
        "outputId": "b41de0e0-bf3c-4b18-95d4-966a99d108c9",
        "id": "wPacEhQ_3a1T"
      },
      "execution_count": 34,
      "outputs": [
        {
          "output_type": "stream",
          "name": "stdout",
          "text": [
            "Null Hypothesis (H0): mu <= 3173\n",
            "Alternative Hypothesis (Ha): mu > 3173\n",
            "\n",
            "Test Statistic (z-score): 2.63\n",
            "p-value: 0.0042\n",
            "\n",
            "Conclusion: Reject H0. There is sufficient evidence to conclude that the current population mean credit card balance for undergraduate students has increased compared to the previous all-time high of $3,173 reported in the original report.\n"
          ]
        }
      ]
    },
    {
      "cell_type": "markdown",
      "source": [
        "Consider the following hypothesis test.\n",
        "H0: 𝜇 ≤ 12\n",
        "Ha: 𝜇 > 12\n",
        "A sample of 25 provided a sample mean\n",
        "x = 14\n",
        " and a sample standard deviation\n",
        "s = 4.55(Change only).\n",
        "(a)\n",
        "Compute the value of the test statistic.\n",
        "b. correct 0.010 < p-value < 0.025\n",
        "c. Reject H0. There is sufficient evidence to conclude that 𝜇 > 12."
      ],
      "metadata": {
        "id": "L83xHPiH6ONB"
      }
    },
    {
      "cell_type": "code",
      "source": [],
      "metadata": {
        "id": "8TcP8kgx6dI6"
      },
      "execution_count": null,
      "outputs": []
    },
    {
      "cell_type": "code",
      "source": [
        "from scipy.stats import t\n",
        "import numpy as np\n",
        "# Sample data\n",
        "sample_mean = 14\n",
        "null_mean = 12\n",
        "sample_std = 4.28\n",
        "# chenge this upper value\n",
        "sample_size = 25\n",
        "\n",
        "# (a) Test Statistic\n",
        "t_statistic = (sample_mean - null_mean) / (sample_std / np.sqrt(sample_size))\n",
        "t_statistic = round(t_statistic, 3)\n",
        "print(\"Test Statistic (t-statistic):\", t_statistic)\n",
        "\n",
        "# (b) p-value using t-distribution table (reference for interpretation)\n",
        "degrees_of_freedom = sample_size - 1  # Degrees of freedom for one-sample t-test\n",
        "\n",
        "# You would need a t-distribution table here to look up the p-value based on the\n",
        "# calculated t-statistic (2.247) and degrees of freedom (24).\n",
        "# Look for the one-tailed upper tail probability.\n",
        "\n",
        "print(\"\\n**Note:** You would need a t-distribution table to find the exact p-value.\")\n",
        "print(\"Look up\", t_statistic, \"with\", degrees_of_freedom, \"degrees of freedom (one-tailed upper tail).\")\n",
        "\n",
        "# (c) Conclusion at α = 0.05\n",
        "significance_level = 0.05\n",
        "\n",
        "# Hypothesis test using critical value approach\n",
        "critical_value = t.ppf(1 - significance_level, degrees_of_freedom)  # One-tailed upper tail\n",
        "\n",
        "if t_statistic >= critical_value:\n",
        "  conclusion = \"Reject H0. There is sufficient evidence to conclude that mu > 12.\"\n",
        "else:\n",
        "  conclusion = \"Do not reject H0. There is insufficient evidence to conclude that mu > 12.\"\n",
        "\n",
        "print(\"\\nConclusion (critical value approach):\", conclusion)\n",
        "\n",
        "# (d) Rejection Rule using Critical Value\n",
        "print(\"\\nRejection Rule (one-tailed upper test):\")\n",
        "print(\"test statistic ≤ NONE\")\n",
        "print(\"test statistic ≥\", round(critical_value, 3))\n"
      ],
      "metadata": {
        "colab": {
          "base_uri": "https://localhost:8080/"
        },
        "id": "omcZ-Mmz5bDD",
        "outputId": "c3428c32-b5e9-41e5-aac6-c5072c85e825"
      },
      "execution_count": 25,
      "outputs": [
        {
          "output_type": "stream",
          "name": "stdout",
          "text": [
            "Test Statistic (t-statistic): 2.336\n",
            "\n",
            "**Note:** You would need a t-distribution table to find the exact p-value.\n",
            "Look up 2.336 with 24 degrees of freedom (one-tailed upper tail).\n",
            "\n",
            "Conclusion (critical value approach): Reject H0. There is sufficient evidence to conclude that mu > 12.\n",
            "\n",
            "Rejection Rule (one-tailed upper test):\n",
            "test statistic ≤ NONE\n",
            "test statistic ≥ 1.711\n"
          ]
        }
      ]
    },
    {
      "cell_type": "code",
      "source": [],
      "metadata": {
        "id": "GCJ7E4SU8MQV"
      },
      "execution_count": null,
      "outputs": []
    },
    {
      "cell_type": "markdown",
      "source": [
        "You may need to use the appropriate appendix table or technology to answer this question.\n",
        "Consider the following hypothesis test.\n",
        "H0: p = 0.30\n",
        "Ha: p ≠ 0.30\n",
        "A sample of 400 provided a sample proportion\n",
        "p = 0.285.(Change)\n",
        "(a)\n",
        "Compute the value of the test statistic. (Round your answer to two decimal places.)\n",
        "(No Response) seenKey -0.65\n",
        "(b)\n",
        "What is the p-value? (Round your answer to four decimal places.)\n",
        "p-value = (No Response) seenKey 0.5127\n",
        "(c-d) correct Do not reject H0. There is insufficient evidence to conclude that p ≠ 0.30.    \n",
        "d. What is the rejection rule using the critical value? (Round your answer to two decimal places. If the test is one-tailed, enter NONE for the unused tail.)\n",
        "test statistic\t≤\t(No Response) seenKey -1.96\n",
        "test statistic\t≥\t(No Response) seenKey 1.96"
      ],
      "metadata": {
        "id": "sFQLOxiw8Qlx"
      }
    },
    {
      "cell_type": "code",
      "source": [
        "from scipy.stats import norm\n",
        "\n",
        "# Sample data\n",
        "sample_proportion = 0.285\n",
        "sample_size = 400\n",
        "null_proportion = 0.30\n",
        "\n",
        "# (a) Test Statistic (z-statistic for proportions)\n",
        "z_statistic = (sample_proportion - null_proportion) / np.sqrt(null_proportion * (1 - null_proportion) / sample_size)\n",
        "z_statistic = round(z_statistic, 2)\n",
        "print(\"Test Statistic (z-statistic):\", z_statistic)\n",
        "\n",
        "# (b) p-value (two-tailed test)\n",
        "# Since Ha is not equal to, we use a two-tailed test\n",
        "p_value = 2 * (1 - norm.cdf(abs(z_statistic)))  # Two-tailed probability\n",
        "p_value = round(p_value, 4)\n",
        "print(\"p-value:\", p_value)\n",
        "\n",
        "# (c) Conclusion at α = 0.05\n",
        "significance_level = 0.05\n",
        "\n",
        "if p_value <= significance_level:\n",
        "  conclusion = \"Reject H0. There is sufficient evidence to conclude that p ≠ 0.30.\"\n",
        "else:\n",
        "  conclusion = \"Do not reject H0. There is insufficient evidence to conclude that p ≠ 0.30.\"\n",
        "\n",
        "print(\"\\nConclusion:\", conclusion)\n",
        "\n",
        "# (d) Rejection Rule using Critical Value (two-tailed test)\n",
        "critical_value = abs(norm.ppf(1 - significance_level / 2))  # Two-tailed critical value\n",
        "critical_value = round(critical_value, 2)\n",
        "\n",
        "print(\"\\nRejection Rule (two-tailed test):\")\n",
        "print(\"test statistic ≤ -\", critical_value)\n",
        "print(\"test statistic ≥\", critical_value)\n"
      ],
      "metadata": {
        "colab": {
          "base_uri": "https://localhost:8080/"
        },
        "outputId": "8ecac469-e789-4e70-a0fe-565a47eeda1a",
        "id": "ud1JiOBU8Mks"
      },
      "execution_count": 36,
      "outputs": [
        {
          "output_type": "stream",
          "name": "stdout",
          "text": [
            "Test Statistic (z-statistic): -0.65\n",
            "p-value: 0.5157\n",
            "\n",
            "Conclusion: Do not reject H0. There is insufficient evidence to conclude that p ≠ 0.30.\n",
            "\n",
            "Rejection Rule (two-tailed test):\n",
            "test statistic ≤ - 1.96\n",
            "test statistic ≥ 1.96\n"
          ]
        }
      ]
    },
    {
      "cell_type": "markdown",
      "source": [],
      "metadata": {
        "id": "Q1fQ_4pI6kXp"
      }
    }
  ]
}